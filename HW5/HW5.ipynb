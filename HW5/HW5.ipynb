{
 "cells": [
  {
   "cell_type": "code",
   "execution_count": null,
   "id": "7d10ad3e",
   "metadata": {},
   "outputs": [],
   "source": [
    "import altair as alt\n",
    "import pandas as pd\n",
    "import geopandas as gpd"
   ]
  },
  {
   "cell_type": "code",
   "execution_count": null,
   "id": "9055381a",
   "metadata": {},
   "outputs": [],
   "source": [
    "df = pd.read_csv('population_trends.csv')\n",
    "df = df[df.region != 'Ukraine']\n",
    "df.head()"
   ]
  },
  {
   "cell_type": "code",
   "execution_count": null,
   "id": "e80db3b1",
   "metadata": {},
   "outputs": [],
   "source": [
    "ua = gpd.read_file('ukraine.json')"
   ]
  },
  {
   "cell_type": "code",
   "execution_count": null,
   "id": "52194896",
   "metadata": {},
   "outputs": [],
   "source": [
    "last_year = df[\"year\"].max()"
   ]
  },
  {
   "cell_type": "code",
   "execution_count": null,
   "id": "92acba5b",
   "metadata": {},
   "outputs": [],
   "source": [
    "last_year"
   ]
  },
  {
   "cell_type": "code",
   "execution_count": null,
   "id": "bf375c60",
   "metadata": {},
   "outputs": [],
   "source": [
    "cur_df = df[df[\"year\"] == last_year]"
   ]
  },
  {
   "cell_type": "markdown",
   "id": "34fa153e",
   "metadata": {},
   "source": [
    "**карта, котра відображає рівень приросту / скорочення населення за регіонами станом на останній доступний рік**"
   ]
  },
  {
   "cell_type": "code",
   "execution_count": null,
   "id": "94bd19f8",
   "metadata": {},
   "outputs": [],
   "source": [
    "alt.Chart(ua).transform_lookup(\n",
    "    lookup = 'NAME_1',\n",
    "    from_ = alt.LookupData(data = cur_df, \n",
    "                           key = 'region',\n",
    "                           fields=['region', 'rate'])\n",
    ").mark_geoshape().encode(\n",
    "    color = alt.Color('rate:O'),\n",
    "    tooltip = [alt.Tooltip('rate:O'),\n",
    "    alt.Tooltip('region:N')]\n",
    ").properties(width = 900, height = 500, background = '#F9F9F9', padding = 25)"
   ]
  },
  {
   "cell_type": "markdown",
   "id": "eb708de7",
   "metadata": {},
   "source": [
    "**лінійний графік, котрий відображає рівень приросту / скорочення населення за регіонами за всіма роками (одна лінія на графіку - один регіон)**"
   ]
  },
  {
   "cell_type": "code",
   "execution_count": null,
   "id": "30ac9814",
   "metadata": {},
   "outputs": [],
   "source": [
    "alt.Chart(df).mark_line().encode(\n",
    "    x = alt.X('year:Q'),\n",
    "    y = alt.Y('rate:Q'),\n",
    "    tooltip = [alt.Tooltip('rate:O'),\n",
    "    alt.Tooltip('region:N')],\n",
    "    detail = alt.Detail('region:N')\n",
    ").properties(width = 900, height = 600)"
   ]
  },
  {
   "cell_type": "code",
   "execution_count": null,
   "id": "43644cf4",
   "metadata": {},
   "outputs": [],
   "source": []
  },
  {
   "cell_type": "code",
   "execution_count": null,
   "id": "405d3039",
   "metadata": {},
   "outputs": [],
   "source": []
  }
 ],
 "metadata": {
  "kernelspec": {
   "display_name": "Python 3 (ipykernel)",
   "language": "python",
   "name": "python3"
  },
  "language_info": {
   "codemirror_mode": {
    "name": "ipython",
    "version": 3
   },
   "file_extension": ".py",
   "mimetype": "text/x-python",
   "name": "python",
   "nbconvert_exporter": "python",
   "pygments_lexer": "ipython3",
   "version": "3.7.11"
  }
 },
 "nbformat": 4,
 "nbformat_minor": 5
}
