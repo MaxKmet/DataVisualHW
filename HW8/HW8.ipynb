{
 "cells": [
  {
   "cell_type": "code",
   "execution_count": null,
   "id": "c510a535",
   "metadata": {},
   "outputs": [],
   "source": [
    "import altair as alt\n",
    "import pandas as pd"
   ]
  },
  {
   "cell_type": "code",
   "execution_count": null,
   "id": "e791bacc",
   "metadata": {},
   "outputs": [],
   "source": [
    "df = pd.read_excel('hw8data.xlsx')"
   ]
  },
  {
   "cell_type": "code",
   "execution_count": null,
   "id": "9bc33e9f",
   "metadata": {},
   "outputs": [],
   "source": [
    "df.head()"
   ]
  },
  {
   "cell_type": "code",
   "execution_count": null,
   "id": "239122ce",
   "metadata": {},
   "outputs": [],
   "source": [
    "df[\"region\"] = df[\"Регіон, рік\"].str.split(',').apply(lambda x: x[0])\n",
    "df[\"year\"] = df[\"Регіон, рік\"].str.split(',').apply(lambda x: x[1])"
   ]
  },
  {
   "cell_type": "code",
   "execution_count": null,
   "id": "40d1e8ca",
   "metadata": {},
   "outputs": [],
   "source": [
    "df.head()"
   ]
  },
  {
   "cell_type": "code",
   "execution_count": null,
   "id": "47e8dcdc",
   "metadata": {},
   "outputs": [],
   "source": []
  },
  {
   "cell_type": "code",
   "execution_count": null,
   "id": "c0417143",
   "metadata": {},
   "outputs": [],
   "source": [
    "new_df = []\n",
    "for ind, row in df.iterrows():\n",
    "    for c in [\"сільське господарство\", \"промисловість\", \"будівництво\", \"послуги\", \"державне управління\"]:\n",
    "        r = {}\n",
    "        r[\"region\"] = row[\"region\"]\n",
    "        r[\"year\"] = int(row[\"year\"])\n",
    "        r[\"department\"] = c\n",
    "        r[\"percent\"] = row[c]\n",
    "        new_df.append(r)\n",
    "\n",
    "new_df = pd.DataFrame(new_df)"
   ]
  },
  {
   "cell_type": "code",
   "execution_count": null,
   "id": "47ce1ed5",
   "metadata": {},
   "outputs": [],
   "source": [
    "new_df.head()"
   ]
  },
  {
   "cell_type": "code",
   "execution_count": null,
   "id": "5a5b2b62",
   "metadata": {},
   "outputs": [],
   "source": [
    "alt.Chart(new_df).mark_bar().encode(\n",
    "    x = alt.X('year:N'),\n",
    "    y = alt.Y('percent'),\n",
    "    row = alt.Row('region:N'),\n",
    "    column = alt.Row('department:N'),\n",
    "    tooltip = [alt.Tooltip('percent'), alt.Tooltip('department')],\n",
    "    color = alt.Color('year:N')\n",
    ").properties(width = 950 / 8, height = 500/len(pd.unique(new_df.department)))"
   ]
  },
  {
   "cell_type": "code",
   "execution_count": null,
   "id": "a9a43d94",
   "metadata": {},
   "outputs": [],
   "source": []
  },
  {
   "cell_type": "code",
   "execution_count": null,
   "id": "38523f66",
   "metadata": {},
   "outputs": [],
   "source": []
  },
  {
   "cell_type": "code",
   "execution_count": null,
   "id": "bd11107a",
   "metadata": {},
   "outputs": [],
   "source": []
  }
 ],
 "metadata": {
  "kernelspec": {
   "display_name": "Python 3 (ipykernel)",
   "language": "python",
   "name": "python3"
  },
  "language_info": {
   "codemirror_mode": {
    "name": "ipython",
    "version": 3
   },
   "file_extension": ".py",
   "mimetype": "text/x-python",
   "name": "python",
   "nbconvert_exporter": "python",
   "pygments_lexer": "ipython3",
   "version": "3.7.11"
  }
 },
 "nbformat": 4,
 "nbformat_minor": 5
}
