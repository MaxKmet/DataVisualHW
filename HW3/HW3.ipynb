{
 "cells": [
  {
   "cell_type": "code",
   "execution_count": null,
   "id": "df42ecdc",
   "metadata": {},
   "outputs": [],
   "source": [
    "import pandas as pd\n",
    "import altair as alt\n",
    "import geopandas as gpd"
   ]
  },
  {
   "cell_type": "code",
   "execution_count": null,
   "id": "9e6e615a",
   "metadata": {},
   "outputs": [],
   "source": [
    "world = gpd.read_file('world-countries.json')"
   ]
  },
  {
   "cell_type": "code",
   "execution_count": null,
   "id": "644d4c8f",
   "metadata": {},
   "outputs": [],
   "source": [
    "pop_data = pd.read_csv('population_prospects.csv')"
   ]
  },
  {
   "cell_type": "code",
   "execution_count": null,
   "id": "c36aae41",
   "metadata": {},
   "outputs": [],
   "source": [
    "world.head()"
   ]
  },
  {
   "cell_type": "code",
   "execution_count": null,
   "id": "cf9933df",
   "metadata": {},
   "outputs": [],
   "source": [
    "pop_data.head()"
   ]
  },
  {
   "cell_type": "code",
   "execution_count": null,
   "id": "4a955022",
   "metadata": {},
   "outputs": [],
   "source": [
    "pop_data['variant'].unique()"
   ]
  },
  {
   "cell_type": "code",
   "execution_count": null,
   "id": "ec742a9f",
   "metadata": {},
   "outputs": [],
   "source": [
    "pop_data_2000 = pop_data[(pop_data['variant'] =='Estimates') & (pop_data['year'] ==2000) ]"
   ]
  },
  {
   "cell_type": "code",
   "execution_count": null,
   "id": "56725fa6",
   "metadata": {},
   "outputs": [],
   "source": [
    "pop_data_2000.head()"
   ]
  },
  {
   "cell_type": "code",
   "execution_count": null,
   "id": "06265ffa",
   "metadata": {},
   "outputs": [],
   "source": [
    "pop_data_2100 = pop_data[(pop_data['variant'] =='Medium variant') & (pop_data['year'] ==2100) ]"
   ]
  },
  {
   "cell_type": "code",
   "execution_count": null,
   "id": "9c2564ba",
   "metadata": {},
   "outputs": [],
   "source": [
    "pop_data_2100.head()"
   ]
  },
  {
   "cell_type": "markdown",
   "id": "ca33f76e",
   "metadata": {},
   "source": []
  },
  {
   "cell_type": "code",
   "execution_count": null,
   "id": "6d5c9069",
   "metadata": {},
   "outputs": [],
   "source": [
    "pop_data_needed = pop_data_2000.copy()"
   ]
  },
  {
   "cell_type": "code",
   "execution_count": null,
   "id": "f560f0f8",
   "metadata": {},
   "outputs": [],
   "source": [
    "pop_data_needed.rename(columns={\"population\": \"pop_2000\"}, inplace=True)\n",
    "pop_data_needed = pop_data_needed.merge(pop_data_2100[[\"country_code\", \"population\"]], on= \"country_code\")\n",
    "pop_data_needed.rename(columns={\"population\": \"pop_2100\"}, inplace=True)"
   ]
  },
  {
   "cell_type": "code",
   "execution_count": null,
   "id": "e0c21990",
   "metadata": {},
   "outputs": [],
   "source": [
    "pop_data_needed.loc[pop_data_needed[\"country\"] == \"Russian Federation\", \"country\"] = \"Russia\""
   ]
  },
  {
   "cell_type": "code",
   "execution_count": null,
   "id": "0403c2a5",
   "metadata": {},
   "outputs": [],
   "source": [
    "pop_data_needed.head()"
   ]
  },
  {
   "cell_type": "code",
   "execution_count": null,
   "id": "229ec02d",
   "metadata": {},
   "outputs": [],
   "source": [
    "pop_data_needed[\"2100gt2000\"] = pop_data_needed[\"pop_2100\"] > pop_data_needed[\"pop_2000\"]"
   ]
  },
  {
   "cell_type": "code",
   "execution_count": null,
   "id": "27477caf",
   "metadata": {},
   "outputs": [],
   "source": [
    "pop_data_needed.head()"
   ]
  },
  {
   "cell_type": "markdown",
   "id": "4073f013",
   "metadata": {},
   "source": [
    "**В яких країнах світу населення у 2100 році буде більшим, ніж було у 2000 році, а в яких меншим?**"
   ]
  },
  {
   "cell_type": "markdown",
   "id": "130c6420",
   "metadata": {},
   "source": [
    "Я вибрав кольорову шкалу із 2 кольорів, які чітко відповідають на 1 питання - чи більше буде населення в країні 2100 році порівняно з 2000. Також я додав 3 колір щоб відмітити країни, для яких інформація з датасеру не була знайдена (скоріше бо назви країн різняться). Також я додав tooltip зі значенням популяції у 2100 та 2000 роках, щоб можна було одразу оцінити приблизно наскільки популяція різниться."
   ]
  },
  {
   "cell_type": "code",
   "execution_count": null,
   "id": "edab6478",
   "metadata": {},
   "outputs": [],
   "source": [
    "alt.Chart(world).transform_lookup(\n",
    "    lookup = 'name',\n",
    "    from_ = alt.LookupData(data = pop_data_needed, \n",
    "                           key = 'country',\n",
    "                           fields=['2100gt2000', 'country', 'pop_2000', 'pop_2100'])\n",
    ").project(type = 'equalEarth'\n",
    ").mark_geoshape().encode(\n",
    "    color = alt.Color('2100gt2000:N'),\n",
    "    tooltip = [alt.Tooltip('2100gt2000:N'),\n",
    "    alt.Tooltip('pop_2000:N'),\n",
    "    alt.Tooltip('pop_2100:N')]\n",
    ").properties(width = 850, height = 500, background = '#F9F9F9', padding = 25)"
   ]
  },
  {
   "cell_type": "markdown",
   "id": "da8d9124",
   "metadata": {},
   "source": [
    "**На скільки відсотків збільшиться або зменшиться населення кожної країни у 2100 році у порівнянні з 2000 роком?**"
   ]
  },
  {
   "cell_type": "markdown",
   "id": "4676f4a5",
   "metadata": {},
   "source": [
    "Я вибрав кольорову шкалу з проміжками між кольорами в 20 одиниць, бо хотів підкреслити ксть країн з прогнозованим відсотковим збільшенням популяції близьким до 0."
   ]
  },
  {
   "cell_type": "code",
   "execution_count": null,
   "id": "cbb9a859",
   "metadata": {},
   "outputs": [],
   "source": [
    "pop_data_needed[\"2100_2000_perc_delta\"] = 100 * (pop_data_needed[\"pop_2100\"] - pop_data_needed[\"pop_2000\"]) / pop_data_needed[\"pop_2000\"]"
   ]
  },
  {
   "cell_type": "code",
   "execution_count": null,
   "id": "69b07b60",
   "metadata": {},
   "outputs": [],
   "source": [
    "alt.Chart(world).transform_lookup(\n",
    "    lookup = 'name',\n",
    "    from_ = alt.LookupData(data = pop_data_needed, \n",
    "                           key = 'country',\n",
    "                           fields=['2100_2000_perc_delta', 'country'])\n",
    ").project(type = 'equalEarth'\n",
    ").mark_geoshape().encode(\n",
    "    color = alt.Color('2100_2000_perc_delta:Q', bin = alt.Bin(step = 20)),\n",
    "    tooltip = [\n",
    "        alt.Tooltip('country:N'),\n",
    "        alt.Tooltip('2100_2000_perc_delta:N',format = '<1d')\n",
    "    ]\n",
    ").properties(width = 850, height = 500, background = '#F9F9F9', padding = 25)"
   ]
  },
  {
   "cell_type": "markdown",
   "id": "fcf1b736",
   "metadata": {},
   "source": [
    "**Яким буде населення країн світу у 2100 році?**"
   ]
  },
  {
   "cell_type": "markdown",
   "id": "857168e6",
   "metadata": {},
   "source": [
    "Я вибрав pinkyellowgreen, бо вона краще відображає контраст між країнами з високим населенням та низьким. Попередня кольорова шкала була більш плавною"
   ]
  },
  {
   "cell_type": "code",
   "execution_count": null,
   "id": "85e57a60",
   "metadata": {},
   "outputs": [],
   "source": [
    "alt.Chart(world).transform_lookup(\n",
    "    lookup = 'name',\n",
    "    from_ = alt.LookupData(data = pop_data_needed, \n",
    "                           key = 'country',\n",
    "                           fields=['pop_2100', 'country'])\n",
    ").project(type = 'equalEarth'\n",
    ").mark_geoshape().encode(\n",
    "    color = alt.Color('pop_2100:Q', scale = alt.Scale(type = 'quantize', scheme = 'pinkyellowgreen')),\n",
    "    tooltip = [\n",
    "        alt.Tooltip('country:N'),\n",
    "        alt.Tooltip('pop_2100:N',format = '<1d')\n",
    "    ]\n",
    ").properties(width = 850, height = 500, background = '#F9F9F9', padding = 25)"
   ]
  },
  {
   "cell_type": "code",
   "execution_count": null,
   "id": "7d10ad3e",
   "metadata": {},
   "outputs": [],
   "source": []
  }
 ],
 "metadata": {
  "kernelspec": {
   "display_name": "Python 3 (ipykernel)",
   "language": "python",
   "name": "python3"
  },
  "language_info": {
   "codemirror_mode": {
    "name": "ipython",
    "version": 3
   },
   "file_extension": ".py",
   "mimetype": "text/x-python",
   "name": "python",
   "nbconvert_exporter": "python",
   "pygments_lexer": "ipython3",
   "version": "3.7.11"
  }
 },
 "nbformat": 4,
 "nbformat_minor": 5
}
