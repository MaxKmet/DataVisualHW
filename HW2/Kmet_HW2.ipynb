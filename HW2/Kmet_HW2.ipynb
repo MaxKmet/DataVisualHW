{
 "cells": [
  {
   "cell_type": "markdown",
   "id": "78fb5aeb",
   "metadata": {},
   "source": [
    "- Як змінювалась структура генерації електроенергії за роками?\n",
    "\n",
    "- Як залежить споживання електроенергії від дня року та години доби?\n",
    "\n",
    "- Як змінюється генерація електроенергії з різних джерел впродовж доби?\n",
    "\n",
    "- Як змінюється споживання електроенергії впродовж доби у розрізі місяців року та пір року?\n",
    "\n",
    "- Як змінюється споживання електроенергії впродовж тижня?"
   ]
  },
  {
   "cell_type": "code",
   "execution_count": null,
   "id": "32cfe675",
   "metadata": {},
   "outputs": [],
   "source": [
    "import pandas as pd\n",
    "import altair as alt\n",
    "from datetime import datetime\n",
    "import calendar"
   ]
  },
  {
   "cell_type": "code",
   "execution_count": null,
   "id": "47d501de",
   "metadata": {},
   "outputs": [],
   "source": [
    "df = pd.read_excel('2014-2020.xlsx')\n",
    "df.head()"
   ]
  },
  {
   "cell_type": "code",
   "execution_count": null,
   "id": "5af8bd96",
   "metadata": {},
   "outputs": [],
   "source": [
    "df[\"hour\"] = df.apply(lambda row: int(row[\"Час/Дата\"].split('-')[0]), axis = 1)"
   ]
  },
  {
   "cell_type": "code",
   "execution_count": null,
   "id": "5ef86f88",
   "metadata": {},
   "outputs": [],
   "source": [
    "df[\"day\"] = df.apply(lambda row: int(row[\"Час/Дата\"].split('-')[1].split('.')[0]), axis = 1)"
   ]
  },
  {
   "cell_type": "code",
   "execution_count": null,
   "id": "b183e7af",
   "metadata": {},
   "outputs": [],
   "source": [
    "df[\"month\"] = df.apply(lambda row: int(row[\"Час/Дата\"].split('-')[1].split('.')[1]), axis = 1)"
   ]
  },
  {
   "cell_type": "code",
   "execution_count": null,
   "id": "45cafb06",
   "metadata": {},
   "outputs": [],
   "source": [
    "df[\"year\"] = df.apply(lambda row: int(row[\"Час/Дата\"].split('-')[1].split('.')[2]), axis = 1)"
   ]
  },
  {
   "cell_type": "code",
   "execution_count": null,
   "id": "545b18c4",
   "metadata": {},
   "outputs": [],
   "source": [
    "df[\"day_of_year\"] = df.apply(lambda row: str(row[\"month\"]) + \".\" + str(row[\"day\"]),axis=1)"
   ]
  },
  {
   "cell_type": "code",
   "execution_count": null,
   "id": "0192c6e5",
   "metadata": {},
   "outputs": [],
   "source": [
    "df[\"weekday\"] = df.apply(lambda row: calendar.day_name[datetime(row[\"year\"], row[\"month\"], row[\"day\"]).weekday()],axis=1)"
   ]
  },
  {
   "cell_type": "code",
   "execution_count": null,
   "id": "8444a58d",
   "metadata": {},
   "outputs": [],
   "source": [
    "seasons_dict = {\"winter\": [12,1,2], \"spring\": [3,4,5], \"summer\": [6,7,8], \"autumn\": [9,10,11]}\n",
    "\n",
    "reverse_season_dict = {}\n",
    "for k, v in seasons_dict.items(): \n",
    "    for i in v:\n",
    "        reverse_season_dict[i] = k"
   ]
  },
  {
   "cell_type": "code",
   "execution_count": null,
   "id": "ee07ac4b",
   "metadata": {},
   "outputs": [],
   "source": [
    "reverse_season_dict"
   ]
  },
  {
   "cell_type": "code",
   "execution_count": null,
   "id": "148e81fd",
   "metadata": {},
   "outputs": [],
   "source": [
    "df[\"season\"] = df.apply(lambda row: reverse_season_dict[row[\"month\"]], axis=1)"
   ]
  },
  {
   "cell_type": "code",
   "execution_count": null,
   "id": "3b4361f0",
   "metadata": {},
   "outputs": [],
   "source": [
    "aes_df = df[[\"AES\", \"hour\", \"day\", \"month\", \"year\", \"season\", \"day_of_year\", \"weekday\"]]\n",
    "aes_df.rename({\"AES\": \"gen\"},axis=1, inplace=True)\n",
    "aes_df[\"type\"] = \"AES\"\n",
    "\n",
    "tec_df = df[[\"TEC\", \"hour\", \"day\", \"month\", \"year\", \"season\", \"day_of_year\", \"weekday\"]]\n",
    "tec_df.rename({\"TEC\": \"gen\"},axis=1, inplace=True)\n",
    "tec_df[\"type\"] = \"TEC\"\n",
    "\n",
    "vde_df = df[[\"VDE\", \"hour\", \"day\", \"month\", \"year\", \"season\", \"day_of_year\", \"weekday\"]]\n",
    "vde_df.rename({\"VDE\": \"gen\"},axis=1, inplace=True)\n",
    "vde_df[\"type\"] = \"VDE\"\n",
    "\n",
    "tes_df = df[[\"TES\", \"hour\", \"day\", \"month\", \"year\", \"season\", \"day_of_year\", \"weekday\"]]\n",
    "tes_df.rename({\"TES\": \"gen\"},axis=1, inplace=True)\n",
    "tes_df[\"type\"] = \"TES\"\n",
    "\n",
    "ges_df = df[[\"GES\", \"hour\", \"day\", \"month\", \"year\", \"season\", \"day_of_year\", \"weekday\"]]\n",
    "ges_df.rename({\"GES\": \"gen\"},axis=1, inplace=True)\n",
    "ges_df[\"type\"] = \"GES\"\n",
    "\n",
    "gaes_df = df[[\"GAES_GEN\", \"hour\", \"day\", \"month\", \"year\", \"season\", \"day_of_year\", \"weekday\"]]\n",
    "gaes_df.rename({\"GAES_GEN\": \"gen\"},axis=1, inplace=True)\n",
    "gaes_df[\"type\"] = \"GAES\"\n",
    "\n",
    "\n",
    "\n",
    "gen_df = pd.concat([aes_df, tec_df, vde_df, tes_df, ges_df, gaes_df], axis=0)"
   ]
  },
  {
   "cell_type": "code",
   "execution_count": null,
   "id": "1b0d38c5",
   "metadata": {},
   "outputs": [],
   "source": [
    "gen_df.head()"
   ]
  },
  {
   "cell_type": "code",
   "execution_count": null,
   "id": "a4ff7dac",
   "metadata": {},
   "outputs": [],
   "source": [
    "alt.data_transformers.disable_max_rows()"
   ]
  },
  {
   "cell_type": "markdown",
   "id": "d3e087f7",
   "metadata": {},
   "source": [
    "**Як змінювалась структура генерації електроенергії за роками?**\n",
    "\n",
    "Я вибрав репрезентацію, що дозволяє побачити і сумарну кількість генерації енергії в Україні у кожен окремий рік, і частку кожного окремого типу енергії від загальної кількості. Таким чином наша візуалізація виконує одразу дві функції - демонструє зміну в часі та частку в цілому. Також я відсортував сегменти графіку, тип енергії з найбільшою кількістю енергії виробленою за рік був на першому місці, а з найменшою - на останньому.\n",
    "\n",
    "Альтернативні варіанти:\n",
    "\n",
    "Використати `mark_line` замість `mark_area`. Але тоді важче було б оцінити частку кожного типу енергії від цілого."
   ]
  },
  {
   "cell_type": "code",
   "execution_count": null,
   "id": "5d2c31ab",
   "metadata": {},
   "outputs": [],
   "source": [
    "alt.Chart(gen_df).transform_fold(\n",
    "    [\"type\"],\n",
    ").mark_area().encode(\n",
    "    x = alt.X('year:Q', axis = alt.Axis(tickCount = 5, format = '<4d')),\n",
    "    y = alt.Y('gen:Q', aggregate = 'sum'),\n",
    "    color = alt.Color('type:N'),\n",
    "    order = alt.Order('gen:Q', aggregate='sum', sort = 'ascending')\n",
    ").properties(width = 800, height = 500, background = '#F9F9F9', padding = 25)"
   ]
  },
  {
   "cell_type": "markdown",
   "id": "0a506b7d",
   "metadata": {},
   "source": [
    "**Як залежить споживання електроенергії від дня року та години доби?**\n",
    "\n",
    "Я вибрав варіант візуалізації за допомогою прямокутників, кожен з яких репрезентує споживання електроенергії в конкретний день року в конкретну годину. Також я відсортував дні за постачанням енергії, так що дні з більшим загальним постачанням за день показуються вище. Таким чином нам легко порівнювати загальне споживання за різні дні року. Недоліком є те, що для того щоб порівняти 2 конкретні дні нам треба в найгіршому випадку перебрати 365 днів. Але ми точно знаємо: який з цих днів вище у спису, у того споживання більше. Кольорова теплова карта відображає різницю споживання за різні години дня. Іншим недоліком такої репрезентації є її велика довжина, цю проблему можна було б вирішити за допомогою агрегації, скажімо, по тижням, але нашею задачею було показати залежність саме по днях"
   ]
  },
  {
   "cell_type": "code",
   "execution_count": null,
   "id": "eb1e643c",
   "metadata": {},
   "outputs": [],
   "source": [
    "cons_df = df[[\"hour\", \"day\", \"month\", \"year\", \"season\", \"day_of_year\", \"CONSUMPTION\", \"weekday\"]]"
   ]
  },
  {
   "cell_type": "code",
   "execution_count": null,
   "id": "501ac405",
   "metadata": {},
   "outputs": [],
   "source": [
    "cons_df.rename({\"CONSUMPTION\": \"consumption\"},axis=1,inplace=True)"
   ]
  },
  {
   "cell_type": "code",
   "execution_count": null,
   "id": "7d57f350",
   "metadata": {},
   "outputs": [],
   "source": [
    "cons_df.head()"
   ]
  },
  {
   "cell_type": "code",
   "execution_count": null,
   "id": "90d34797",
   "metadata": {},
   "outputs": [],
   "source": [
    "alt.Chart(cons_df).transform_fold(\n",
    "    [\"consumption\"],\n",
    ").mark_rect().encode(\n",
    "    x = alt.X('hour:N'),\n",
    "    y = alt.Y('day_of_year:N', sort = alt.Sort(field = 'consumption', op = 'sum', order = 'descending')),\n",
    "    color = alt.Color('consumption:Q', scale = alt.Scale(scheme = 'pinkyellowgreen'))\n",
    ").properties(width = 800)"
   ]
  },
  {
   "cell_type": "markdown",
   "id": "566f08e8",
   "metadata": {},
   "source": [
    "**Як змінюється генерація електроенергії з різних джерел впродовж доби?**\n",
    "\n",
    "Я вибрав варіант візуалізації за допомогою прямокутників, кожен з яких репрезентує середню генерацію електроенергії певним джерелом в конкретну годину. \n",
    "\n",
    "Альтернативним варіантом було використання гістограм: кожен стовпчик розбитий на частини, щоб відобразити частку генерації в цілому за певну годину часу, але інтуїтиіно це не мало багато інформативного сенсу, тому я зупинився на цьому варіанті"
   ]
  },
  {
   "cell_type": "code",
   "execution_count": null,
   "id": "56b2d325",
   "metadata": {},
   "outputs": [],
   "source": [
    "alt.Chart(gen_df).transform_fold(\n",
    "    [\"gen\"],\n",
    ").mark_rect().encode(\n",
    "    x = alt.X('hour:N'),\n",
    "    y = alt.Y('type:N', sort = alt.Sort(field = 'gen', op = 'mean', order = 'descending')),\n",
    "    color = alt.Color('gen:Q', scale = alt.Scale(scheme = 'pinkyellowgreen'))\n",
    ").properties(width = 800)"
   ]
  },
  {
   "cell_type": "markdown",
   "id": "2297bb89",
   "metadata": {},
   "source": [
    "**Як змінюється споживання електроенергії впродовж доби у розрізі місяців року та пір року?**\n",
    "\n",
    "Я вибрав варіант візуалізації за допомогою прямокутників, кожен з яких репрезентує середнє споживання електроенергії в конкретну годину, в певний місяць. Я згрупував місяці по порам року, щоб було зручніше порівнювати споживання в різні сезони. Очевидно, що взимку зеленого кольору найбільше, отже споживання в цей час найбільше.\n",
    "\n",
    "Альтернативним варіантом було використання гісторгам, але велика їх кількість виглядала громіздко"
   ]
  },
  {
   "cell_type": "code",
   "execution_count": null,
   "id": "6864db1c",
   "metadata": {},
   "outputs": [],
   "source": []
  },
  {
   "cell_type": "code",
   "execution_count": null,
   "id": "4ec5763a",
   "metadata": {},
   "outputs": [],
   "source": [
    "alt.Chart(cons_df).transform_fold(\n",
    "    [\"consumption\"],\n",
    ").mark_rect().encode(\n",
    "    x = alt.X('hour:N'),\n",
    "    y = alt.Y('month:O'),\n",
    "    row = alt.Row('season:N'),\n",
    "    color = alt.Color('consumption:Q', scale = alt.Scale(scheme = 'pinkyellowgreen'))\n",
    ").properties(width = 800)"
   ]
  },
  {
   "cell_type": "markdown",
   "id": "94aba3a3",
   "metadata": {},
   "source": [
    "**Як змінюється споживання електроенергії впродовж тижня?**\n",
    "\n",
    "Я вибрав простий спосіб візуалізації середнього споживання енергії в датасеті - гістограми, розташовані в рядок. \n",
    "Перевагою є те, що по висоті стовпчика легко порівнювати дні тижня.\n",
    "\n",
    "Альтернативним варіантом було використати відображення за допомогою одного кольорового стовпчика, де кожен колір відображав би день тижня.\n",
    "У даному випадку важко було б порівнювати споживання за часткою кольору, бо значення є дуже близькими. Тому тут я перевагу надав висоті стовпчика"
   ]
  },
  {
   "cell_type": "code",
   "execution_count": null,
   "id": "29dad651",
   "metadata": {},
   "outputs": [],
   "source": [
    "sort= [\"Monday\", \"Tuesday\", \"Wednesday\", \"Thursday\", \"Friday\", \"Saturday\", \"Sunday\"]"
   ]
  },
  {
   "cell_type": "code",
   "execution_count": null,
   "id": "7f22b0ef",
   "metadata": {},
   "outputs": [],
   "source": [
    "alt.Chart(cons_df).mark_bar().encode(\n",
    "    x = alt.X('weekday:N', sort=alt.Sort(field = 'consumption', op = 'mean', order = 'ascending')),\n",
    "    y = alt.Y('consumption:Q', aggregate = 'mean'),\n",
    "    tooltip = alt.Tooltip('consumption', aggregate = 'mean')\n",
    ").properties(width = 800, height = 500)"
   ]
  },
  {
   "cell_type": "code",
   "execution_count": null,
   "id": "7e4b1d24",
   "metadata": {},
   "outputs": [],
   "source": []
  }
 ],
 "metadata": {
  "kernelspec": {
   "display_name": "Python 3 (ipykernel)",
   "language": "python",
   "name": "python3"
  },
  "language_info": {
   "codemirror_mode": {
    "name": "ipython",
    "version": 3
   },
   "file_extension": ".py",
   "mimetype": "text/x-python",
   "name": "python",
   "nbconvert_exporter": "python",
   "pygments_lexer": "ipython3",
   "version": "3.7.10"
  }
 },
 "nbformat": 4,
 "nbformat_minor": 5
}
